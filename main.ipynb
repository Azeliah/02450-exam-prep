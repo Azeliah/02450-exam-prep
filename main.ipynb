{
 "cells": [
  {
   "cell_type": "raw",
   "source": [
    "This section will cover chapter 2 of the lecture notes."
   ],
   "metadata": {
    "collapsed": false
   }
  },
  {
   "cell_type": "code",
   "execution_count": null,
   "outputs": [],
   "source": [
    "# Importing data from file.\n",
    "\n",
    "def extract(filename: str):\n",
    "    # Check extension and fork based on type.\n",
    "    pass\n",
    "\n",
    "\n",
    "def one_out_of_k(array):\n",
    "    pass\n"
   ],
   "metadata": {
    "collapsed": false,
    "pycharm": {
     "name": "#%%\n"
    }
   }
  },
  {
   "cell_type": "code",
   "execution_count": null,
   "outputs": [],
   "source": [
    "def normalize_array(array, method: str):\n",
    "    # Fork with method.\n",
    "    pass\n",
    "\n",
    "\n",
    "def normalize_matrix(matrix, method: str):\n",
    "    # Normalize by columns, not rows.\n",
    "    pass\n",
    "\n",
    "\n",
    "def activation_function(val, method: str):\n",
    "    # Define different activation functions. Step, SoftMax, ReLU, etc..\n",
    "    if method == \"Step\":\n",
    "        if val > 0:\n",
    "            return 1\n",
    "        else:\n",
    "            return 0\n",
    "    if method == \"SoftMax\":\n",
    "        pass\n",
    "    if method == \"ReLU\":\n",
    "        if val > 0:\n",
    "            return val\n",
    "        else:\n",
    "            return 0"
   ],
   "metadata": {
    "collapsed": false,
    "pycharm": {
     "name": "#%%\n"
    }
   }
  },
  {
   "cell_type": "markdown",
   "source": [
    "This section covers Principal Component Analysis - chapter 3."
   ],
   "metadata": {
    "collapsed": false
   }
  },
  {
   "cell_type": "code",
   "execution_count": null,
   "outputs": [],
   "source": [
    "def project_onto_subspace(matrix, column: int):\n",
    "    # Projects the m x n matrix onto the m x n-1 subspace, removing the column parameter.\n",
    "    pass\n",
    "\n",
    "def linear_independence(matrix):\n",
    "    pass\n",
    "\n",
    "def maximize_variance(matrix):\n",
    "    pass\n",
    "\n",
    "def principal_component_analysis(matrix):\n",
    "    pass"
   ],
   "metadata": {
    "collapsed": false,
    "pycharm": {
     "name": "#%%\n"
    }
   }
  }
 ],
 "metadata": {
  "kernelspec": {
   "display_name": "Python 3",
   "language": "python",
   "name": "python3"
  },
  "language_info": {
   "codemirror_mode": {
    "name": "ipython",
    "version": 2
   },
   "file_extension": ".py",
   "mimetype": "text/x-python",
   "name": "python",
   "nbconvert_exporter": "python",
   "pygments_lexer": "ipython2",
   "version": "2.7.6"
  }
 },
 "nbformat": 4,
 "nbformat_minor": 0
}